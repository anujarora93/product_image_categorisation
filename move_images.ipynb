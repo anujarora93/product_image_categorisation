{
 "cells": [
  {
   "cell_type": "markdown",
   "metadata": {},
   "source": [
    "# Google Drive image manipulation\n",
    "\n",
    "Run the following commands to split the images directory into subdirectories of 1500 images each."
   ]
  },
  {
   "cell_type": "code",
   "execution_count": null,
   "metadata": {
    "colab": {
     "base_uri": "https://localhost:8080/",
     "height": 125
    },
    "colab_type": "code",
    "executionInfo": {
     "elapsed": 19639,
     "status": "ok",
     "timestamp": 1562841232854,
     "user": {
      "displayName": "Daniel Paddon",
      "photoUrl": "https://lh6.googleusercontent.com/-f6La3Mn2DB4/AAAAAAAAAAI/AAAAAAAABv4/vkt8Hw8w1So/s64/photo.jpg",
      "userId": "07724853743456149369"
     },
     "user_tz": -60
    },
    "id": "B2BYduGXYby8",
    "outputId": "d25d273c-8125-4c24-9821-ac5e9509ae20"
   },
   "outputs": [],
   "source": [
    "from google.colab import drive\n",
    "\n",
    "drive.mount('/content/gdrive')\n",
    "# root_path = 'gdrive/My Drive/Colab Notebooks/fashion_images/'"
   ]
  },
  {
   "cell_type": "code",
   "execution_count": null,
   "metadata": {
    "colab": {
     "base_uri": "https://localhost:8080/",
     "height": 52
    },
    "colab_type": "code",
    "executionInfo": {
     "elapsed": 400,
     "status": "ok",
     "timestamp": 1562841232859,
     "user": {
      "displayName": "Daniel Paddon",
      "photoUrl": "https://lh6.googleusercontent.com/-f6La3Mn2DB4/AAAAAAAAAAI/AAAAAAAABv4/vkt8Hw8w1So/s64/photo.jpg",
      "userId": "07724853743456149369"
     },
     "user_tz": -60
    },
    "id": "orNcVGhRYePC",
    "outputId": "089077dd-cf7c-4a13-f467-9a1bdc105873"
   },
   "outputs": [],
   "source": [
    "import os\n",
    "print(os.getcwd())\n",
    "os.chdir('gdrive/My Drive/Colab Notebooks/fashion_images/')\n",
    "print(os.getcwd())"
   ]
  },
  {
   "cell_type": "code",
   "execution_count": null,
   "metadata": {
    "colab": {},
    "colab_type": "code",
    "id": "Z2bSHmNbY3e5"
   },
   "outputs": [],
   "source": [
    "! bash move_images_drive.sh"
   ]
  },
  {
   "cell_type": "markdown",
   "metadata": {},
   "source": [
    "# Resizing\n",
    "\n",
    "The high-resolution image dataset can cause the model to run slowly during training, as each image has to be resized to 224\\*224px before being fed into the model.\n",
    "\n",
    "As such, it is recommended to resize the images to 224\\*224px once, here, which speeds up training considerably (~5x)"
   ]
  },
  {
   "cell_type": "code",
   "execution_count": null,
   "metadata": {
    "colab": {},
    "colab_type": "code",
    "id": "uGlesDfSuco0"
   },
   "outputs": [],
   "source": [
    "! sudo apt-get install imagemagick"
   ]
  },
  {
   "cell_type": "code",
   "execution_count": null,
   "metadata": {
    "colab": {},
    "colab_type": "code",
    "id": "KMf7dv4FwNXV"
   },
   "outputs": [],
   "source": [
    "! mogrify -resize 224x224 images/**/*.jpg"
   ]
  }
 ],
 "metadata": {
  "colab": {
   "collapsed_sections": [],
   "name": "move_images.ipynb",
   "provenance": [],
   "version": "0.3.2"
  },
  "kernelspec": {
   "display_name": "Python 3",
   "language": "python",
   "name": "python3"
  },
  "language_info": {
   "codemirror_mode": {
    "name": "ipython",
    "version": 3
   },
   "file_extension": ".py",
   "mimetype": "text/x-python",
   "name": "python",
   "nbconvert_exporter": "python",
   "pygments_lexer": "ipython3",
   "version": "3.6.8"
  }
 },
 "nbformat": 4,
 "nbformat_minor": 1
}
